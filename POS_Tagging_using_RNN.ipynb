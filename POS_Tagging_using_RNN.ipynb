{
  "nbformat": 4,
  "nbformat_minor": 0,
  "metadata": {
    "colab": {
      "name": "POS Tagging using RNN.ipynb",
      "provenance": [],
      "collapsed_sections": [],
      "authorship_tag": "ABX9TyOMak3Jl83IqyXM9aoPm4VT",
      "include_colab_link": true
    },
    "kernelspec": {
      "name": "python3",
      "display_name": "Python 3"
    }
  },
  "cells": [
    {
      "cell_type": "markdown",
      "metadata": {
        "id": "view-in-github",
        "colab_type": "text"
      },
      "source": [
        "<a href=\"https://colab.research.google.com/github/shivu2507/POS-Tagging-using-RNNs/blob/main/POS_Tagging_using_RNN.ipynb\" target=\"_parent\"><img src=\"https://colab.research.google.com/assets/colab-badge.svg\" alt=\"Open In Colab\"/></a>"
      ]
    },
    {
      "cell_type": "markdown",
      "metadata": {
        "id": "g5rkSLaZD4tY"
      },
      "source": [
        "**POS tagging** stands for **Parts of Speech Tagging**, where the given words are labelled accordingly with their respective parts of speech using  **nltk library** and since this is an **offline sequence processing**, **Bidirectional Recurrent Neural Networks(BRNN)** will be used to build the model.**bold text**"
      ]
    },
    {
      "cell_type": "code",
      "metadata": {
        "id": "6YnMd48PCjqR"
      },
      "source": [
        "import nltk"
      ],
      "execution_count": null,
      "outputs": []
    },
    {
      "cell_type": "code",
      "metadata": {
        "colab": {
          "base_uri": "https://localhost:8080/"
        },
        "id": "mjMYlt3lB9PY",
        "outputId": "71039990-9f71-4c5d-b6c6-6329df690fdb"
      },
      "source": [
        "nltk.download('brown')\n",
        "nltk.download('treebank')\n",
        "nltk.download('conll2000')\n",
        "nltk.download('punkt')\n",
        "nltk.download('universal_tagset')"
      ],
      "execution_count": null,
      "outputs": [
        {
          "output_type": "stream",
          "text": [
            "[nltk_data] Downloading package brown to /root/nltk_data...\n",
            "[nltk_data]   Package brown is already up-to-date!\n",
            "[nltk_data] Downloading package treebank to /root/nltk_data...\n",
            "[nltk_data]   Package treebank is already up-to-date!\n",
            "[nltk_data] Downloading package conll2000 to /root/nltk_data...\n",
            "[nltk_data]   Package conll2000 is already up-to-date!\n",
            "[nltk_data] Downloading package punkt to /root/nltk_data...\n",
            "[nltk_data]   Package punkt is already up-to-date!\n",
            "[nltk_data] Downloading package universal_tagset to /root/nltk_data...\n",
            "[nltk_data]   Package universal_tagset is already up-to-date!\n"
          ],
          "name": "stdout"
        },
        {
          "output_type": "execute_result",
          "data": {
            "text/plain": [
              "True"
            ]
          },
          "metadata": {
            "tags": []
          },
          "execution_count": 2
        }
      ]
    },
    {
      "cell_type": "markdown",
      "metadata": {
        "id": "ixVKAU7rH-tX"
      },
      "source": [
        "# Importing Libraries & Dataset"
      ]
    },
    {
      "cell_type": "code",
      "metadata": {
        "id": "XFqXcYt5Chc1"
      },
      "source": [
        "# Importing necessary libraries.\n",
        "\n",
        "import warnings\n",
        "warnings.filterwarnings('ignore')\n",
        "\n",
        "import numpy as np\n",
        "import matplotlib.pyplot as plt\n",
        "import seaborn as sns\n",
        "\n",
        "from nltk.corpus import brown, treebank, conll2000\n",
        "\n",
        "from gensim.models import KeyedVectors\n",
        "\n",
        "from keras.models import Sequential, Model\n",
        "from keras.preprocessing.sequence import pad_sequences\n",
        "from keras.utils.np_utils import to_categorical\n",
        "from keras.layers import Embedding, Dense, Input, TimeDistributed, LSTM, GRU, Bidirectional, SimpleRNN, RNN\n",
        "from keras.preprocessing.text import Tokenizer\n",
        "\n",
        "from sklearn.model_selection import train_test_split\n",
        "from sklearn.utils import shuffle\n",
        "\n",
        "%matplotlib inline"
      ],
      "execution_count": null,
      "outputs": []
    },
    {
      "cell_type": "code",
      "metadata": {
        "id": "7lmyqQ-CIcBs"
      },
      "source": [
        "# Loading Corpora from NLTK library with POS tagging.\n",
        "# tagged_sents returns a list((list(word, tag))) for each sentence.\n",
        "\n",
        "brown_corpus = brown.tagged_sents(tagset ='universal')\n",
        "conll_corpus = conll2000.tagged_sents(tagset = 'universal')\n",
        "treebank_corpus = treebank.tagged_sents(tagset = 'universal')"
      ],
      "execution_count": null,
      "outputs": []
    },
    {
      "cell_type": "code",
      "metadata": {
        "id": "P6iRL3hQJTTo"
      },
      "source": [
        "# Combining the different corpus into single dataset.\n",
        "\n",
        "tagged_sentences = brown_corpus + conll_corpus + treebank_corpus"
      ],
      "execution_count": null,
      "outputs": []
    },
    {
      "cell_type": "markdown",
      "metadata": {
        "id": "V063U3IiLDdo"
      },
      "source": [
        "## A Glimpse of the dataset"
      ]
    },
    {
      "cell_type": "code",
      "metadata": {
        "colab": {
          "base_uri": "https://localhost:8080/"
        },
        "id": "2SKp5_QtLI3P",
        "outputId": "e5d433a0-310c-44e2-e7b4-0d8af71948f8"
      },
      "source": [
        "tagged_sentences[5]"
      ],
      "execution_count": null,
      "outputs": [
        {
          "output_type": "execute_result",
          "data": {
            "text/plain": [
              "[('It', 'PRON'),\n",
              " ('recommended', 'VERB'),\n",
              " ('that', 'ADP'),\n",
              " ('Fulton', 'NOUN'),\n",
              " ('legislators', 'NOUN'),\n",
              " ('act', 'VERB'),\n",
              " ('``', '.'),\n",
              " ('to', 'PRT'),\n",
              " ('have', 'VERB'),\n",
              " ('these', 'DET'),\n",
              " ('laws', 'NOUN'),\n",
              " ('studied', 'VERB'),\n",
              " ('and', 'CONJ'),\n",
              " ('revised', 'VERB'),\n",
              " ('to', 'ADP'),\n",
              " ('the', 'DET'),\n",
              " ('end', 'NOUN'),\n",
              " ('of', 'ADP'),\n",
              " ('modernizing', 'VERB'),\n",
              " ('and', 'CONJ'),\n",
              " ('improving', 'VERB'),\n",
              " ('them', 'PRON'),\n",
              " (\"''\", '.'),\n",
              " ('.', '.')]"
            ]
          },
          "metadata": {
            "tags": []
          },
          "execution_count": 6
        }
      ]
    },
    {
      "cell_type": "markdown",
      "metadata": {
        "id": "HM2vJYJiM2Ms"
      },
      "source": [
        "### Observation\n",
        "\n",
        "Single datapoint here refers to a sentence in the corpora and each datapoint is a list of tuples of words and tags in a sentence."
      ]
    },
    {
      "cell_type": "markdown",
      "metadata": {
        "id": "5jkiiGK1MfuG"
      },
      "source": [
        "# Data Preprocessing\n",
        "\n",
        "In this problem the input is a sentence and output should be the tags of each word in that  sentence. So from the dataset we need to seperate the words and tags of each sentences.<br>\n",
        "\n",
        "So, X will be list of words in a sentence<br>\n",
        "and Y will be list of corresponding POS tags."
      ]
    },
    {
      "cell_type": "code",
      "metadata": {
        "id": "3IQMAYn5LPNW"
      },
      "source": [
        "X = [] # Stores list of sentences.\n",
        "Y = [] # Stores list of corresponding POS Tags. \n",
        "\n",
        "for sentence in tagged_sentences: #for looping through each datapoint/sentence.\n",
        "\n",
        "  X_sentence = [] #Stores words of single datapoint/sentence as a list.\n",
        "  Y_sentence = [] #Stores POS Tags of corresponding sentence as a list.\n",
        "  \n",
        "  for word_tags in sentence: #for looping through each word and tag tuple in a single datapoint/sentence.\n",
        "    X_sentence.append(word_tags[0]) #word_tags[0] refers to first element of the tuple i.e word.\n",
        "    Y_sentence.append(word_tags[1]) #word_tags[1] refers to second element of the tuple i.e POS tags.\n",
        "\n",
        "  X.append(X_sentence)\n",
        "  Y.append(Y_sentence)\n"
      ],
      "execution_count": null,
      "outputs": []
    },
    {
      "cell_type": "code",
      "metadata": {
        "colab": {
          "base_uri": "https://localhost:8080/"
        },
        "id": "P7CUoxlCP47s",
        "outputId": "0b80bdca-d961-412e-c5a3-4244a755c28f"
      },
      "source": [
        "num_unique_words = len(set([word.lower() for sentence in X for word in sentence]))\n",
        "num_unique_tags = len(set([word.lower() for sentence in Y for word in sentence]))\n",
        "\n",
        "print(\"Total number of sentences : {}\".format(len(X)))\n",
        "print(\"Total number of words : {}\".format(len([word for sentence in X for word in sentence])))\n",
        "print(\"Total number of tags : {}\".format(len([word for sentence in Y for word in sentence])))\n",
        "print(\"Total number of unique words : {}\".format(num_unique_words))\n",
        "print(\"Total number of unique tags : {}\".format(num_unique_tags))"
      ],
      "execution_count": null,
      "outputs": [
        {
          "output_type": "stream",
          "text": [
            "Total number of sentences : 72202\n",
            "Total number of words : 1520972\n",
            "Total number of tags : 1520972\n",
            "Total number of unique words : 59448\n",
            "Total number of unique tags : 12\n"
          ],
          "name": "stdout"
        }
      ]
    },
    {
      "cell_type": "code",
      "metadata": {
        "colab": {
          "base_uri": "https://localhost:8080/"
        },
        "id": "pyvOFeQHUJBJ",
        "outputId": "ca00a64f-94c2-4131-c343-1c977b14e504"
      },
      "source": [
        "print(\"Sample Input : \", X[0])\n",
        "print(\"Length of Sample Input : {}\".format(len(X[0])))\n",
        "print(\"Sample Output : \",Y[0])\n",
        "print(\"Length of Sample Output : {}\".format(len(Y[0])))"
      ],
      "execution_count": null,
      "outputs": [
        {
          "output_type": "stream",
          "text": [
            "Sample Input :  ['The', 'Fulton', 'County', 'Grand', 'Jury', 'said', 'Friday', 'an', 'investigation', 'of', \"Atlanta's\", 'recent', 'primary', 'election', 'produced', '``', 'no', 'evidence', \"''\", 'that', 'any', 'irregularities', 'took', 'place', '.']\n",
            "Length of Sample Input : 25\n",
            "Sample Output :  ['DET', 'NOUN', 'NOUN', 'ADJ', 'NOUN', 'VERB', 'NOUN', 'DET', 'NOUN', 'ADP', 'NOUN', 'ADJ', 'NOUN', 'NOUN', 'VERB', '.', 'DET', 'NOUN', '.', 'ADP', 'DET', 'NOUN', 'VERB', 'NOUN', '.']\n",
            "Length of Sample Output : 25\n"
          ],
          "name": "stdout"
        }
      ]
    },
    {
      "cell_type": "markdown",
      "metadata": {
        "id": "1_WqkGJkWhyA"
      },
      "source": [
        "### Vectorizing X & Y\n",
        "\n",
        "Since Neural Networks can only deal with numbers, there is a need to convert the text of the inputs and outputs into numbers.<br>\n",
        "\n",
        "For converting text into numbers, Keras library has an inbuilt function named Tokenizer() which converts input text sequence into integer sequence."
      ]
    },
    {
      "cell_type": "code",
      "metadata": {
        "id": "h2gld--iXkvg"
      },
      "source": [
        "# Creating an instance of Tokenizer() for X and Y.\n",
        "\n",
        "X_tokenizer = Tokenizer()\n",
        "Y_tokenizer = Tokenizer()\n",
        "\n",
        "# Fitting the tokenizer on data.\n",
        "\n",
        "X_tokenizer.fit_on_texts(X)\n",
        "Y_tokenizer.fit_on_texts(Y)\n",
        "\n",
        "# Tokenize the input sequence.\n",
        "\n",
        "X_tokenized = X_tokenizer.texts_to_sequences(X)\n",
        "Y_tokenized = Y_tokenizer.texts_to_sequences(Y)"
      ],
      "execution_count": null,
      "outputs": []
    },
    {
      "cell_type": "code",
      "metadata": {
        "colab": {
          "base_uri": "https://localhost:8080/"
        },
        "id": "PdXZ41zcZysH",
        "outputId": "8e008a93-a16c-4375-ce95-bffed89ebc11"
      },
      "source": [
        "# Comparing raw data with tokenized data.\n",
        "\n",
        "print(\"Sample Raw Input : \\n\", X[0])\n",
        "print(\"Sample Tokenized Input : \\n\",X_tokenized[0])\n",
        "\n",
        "print(\"Sample Raw Output : \\n\", Y[0])\n",
        "print(\"Sample Tokenized Output : \\n\",Y_tokenized[0])"
      ],
      "execution_count": null,
      "outputs": [
        {
          "output_type": "stream",
          "text": [
            "Sample Raw Input : \n",
            " ['The', 'Fulton', 'County', 'Grand', 'Jury', 'said', 'Friday', 'an', 'investigation', 'of', \"Atlanta's\", 'recent', 'primary', 'election', 'produced', '``', 'no', 'evidence', \"''\", 'that', 'any', 'irregularities', 'took', 'place', '.']\n",
            "Sample Tokenized Input : \n",
            " [1, 5731, 778, 2326, 1842, 39, 853, 34, 1944, 4, 16831, 379, 1343, 1523, 1116, 12, 67, 569, 14, 9, 89, 10208, 252, 205, 3]\n",
            "Sample Raw Output : \n",
            " ['DET', 'NOUN', 'NOUN', 'ADJ', 'NOUN', 'VERB', 'NOUN', 'DET', 'NOUN', 'ADP', 'NOUN', 'ADJ', 'NOUN', 'NOUN', 'VERB', '.', 'DET', 'NOUN', '.', 'ADP', 'DET', 'NOUN', 'VERB', 'NOUN', '.']\n",
            "Sample Tokenized Output : \n",
            " [5, 1, 1, 6, 1, 2, 1, 5, 1, 4, 1, 6, 1, 1, 2, 3, 5, 1, 3, 4, 5, 1, 2, 1, 3]\n"
          ],
          "name": "stdout"
        }
      ]
    },
    {
      "cell_type": "markdown",
      "metadata": {
        "id": "7D4FNKZudByK"
      },
      "source": [
        "### Fixing the Input Sentence Length\n",
        "\n",
        "Since we are dealing with sentences, not every sentence is of the same length and hence we need to fix a sentence length and based on this fixed length we need to either truncate longer sequences or pad the shorter sequences. "
      ]
    },
    {
      "cell_type": "code",
      "metadata": {
        "colab": {
          "base_uri": "https://localhost:8080/"
        },
        "id": "95_B_Ufuc_px",
        "outputId": "e783ae26-0e24-4031-b475-dc6f3416d13d"
      },
      "source": [
        "# Checking the maximum length.\n",
        "\n",
        "lengths = [len(sentence) for sentence in X_tokenized]\n",
        "print(\"Maximum Length : {}\".format(max(lengths)))"
      ],
      "execution_count": null,
      "outputs": [
        {
          "output_type": "stream",
          "text": [
            "Maximum Length : 271\n"
          ],
          "name": "stdout"
        }
      ]
    },
    {
      "cell_type": "code",
      "metadata": {
        "colab": {
          "base_uri": "https://localhost:8080/",
          "height": 374
        },
        "id": "Dna9IxoJesqI",
        "outputId": "4a79643c-c467-4f0b-de0f-ef45f1d7d4ea"
      },
      "source": [
        "fig = plt.figure(figsize = [8,6])\n",
        "ax = plt.gca()\n",
        "\n",
        "ax = sns.boxplot(lengths)\n",
        "plt.show()"
      ],
      "execution_count": null,
      "outputs": [
        {
          "output_type": "display_data",
          "data": {
            "image/png": "[encoded data removed]",
            "text/plain": [
              "<Figure size 576x432 with 1 Axes>"
            ]
          },
          "metadata": {
            "tags": [],
            "needs_background": "light"
          }
        }
      ]
    },
    {
      "cell_type": "markdown",
      "metadata": {
        "id": "MKjIKtQyfflQ"
      },
      "source": [
        "Observation\n",
        "\n",
        "*   There are a few outliers indicating that there are a few sentences which are exceptionally long and can be either removed or truncated.\n",
        "*   Truncating is a good choice as sentences which are exceptionally long might be conjunction of two or more sentences.\n",
        "  \n",
        "\n",
        "\n",
        "\n"
      ]
    },
    {
      "cell_type": "markdown",
      "metadata": {
        "id": "X5e_ZLxWrYhe"
      },
      "source": [
        "### Padding\n",
        "\n",
        "We will define a maximum length of 80 and all the sequences will be now of standard size 80 and for the sequences with shorter length it will be padded with zeros from the left side of the sequence and for longer sequences truncation will happen from right side of the sequence."
      ]
    },
    {
      "cell_type": "code",
      "metadata": {
        "id": "AZOgCz7OhWxy"
      },
      "source": [
        "max_length = 80\n",
        "\n",
        "X_padded = pad_sequences(X_tokenized, maxlen = max_length, padding = \"pre\", truncating = \"post\")\n",
        "Y_padded = pad_sequences(Y_tokenized, maxlen = max_length, padding = \"pre\", truncating = \"post\")"
      ],
      "execution_count": null,
      "outputs": []
    },
    {
      "cell_type": "code",
      "metadata": {
        "colab": {
          "base_uri": "https://localhost:8080/"
        },
        "id": "mKSWUiu0smXk",
        "outputId": "1889a7e2-ce7f-4fe5-cc80-77b7ccc74a39"
      },
      "source": [
        "# Comparing the tokenized sequence with padded sequence.\n",
        "\n",
        "print(\"Sample Tokenized Input : \\n\\n\", X_tokenized[0])\n",
        "print(\"Sample Padded Input : \\n\\n\", X_padded[0])\n",
        "\n",
        "print(\"Sample Tokenized Output : \\n\\n\", Y_tokenized[0])\n",
        "print(\"Sample Padded Output : \\n\\n\", Y_padded[0])"
      ],
      "execution_count": null,
      "outputs": [
        {
          "output_type": "stream",
          "text": [
            "Sample Tokenized Input : \n",
            "\n",
            " [1, 5731, 778, 2326, 1842, 39, 853, 34, 1944, 4, 16831, 379, 1343, 1523, 1116, 12, 67, 569, 14, 9, 89, 10208, 252, 205, 3]\n",
            "Sample Padded Input : \n",
            "\n",
            " [    0     0     0     0     0     0     0     0     0     0     0     0\n",
            "     0     0     0     0     0     0     0     0     0     0     0     0\n",
            "     0     0     0     0     0     0     0     0     0     0     0     0\n",
            "     0     0     0     0     0     0     0     0     0     0     0     0\n",
            "     0     0     0     0     0     0     0     1  5731   778  2326  1842\n",
            "    39   853    34  1944     4 16831   379  1343  1523  1116    12    67\n",
            "   569    14     9    89 10208   252   205     3]\n",
            "Sample Tokenized Output : \n",
            "\n",
            " [5, 1, 1, 6, 1, 2, 1, 5, 1, 4, 1, 6, 1, 1, 2, 3, 5, 1, 3, 4, 5, 1, 2, 1, 3]\n",
            "Sample Padded Output : \n",
            "\n",
            " [0 0 0 0 0 0 0 0 0 0 0 0 0 0 0 0 0 0 0 0 0 0 0 0 0 0 0 0 0 0 0 0 0 0 0 0 0\n",
            " 0 0 0 0 0 0 0 0 0 0 0 0 0 0 0 0 0 0 5 1 1 6 1 2 1 5 1 4 1 6 1 1 2 3 5 1 3\n",
            " 4 5 1 2 1 3]\n"
          ],
          "name": "stdout"
        }
      ]
    },
    {
      "cell_type": "code",
      "metadata": {
        "id": "oWHONOXX4zR8"
      },
      "source": [
        "X, Y = X_padded, Y_padded"
      ],
      "execution_count": null,
      "outputs": []
    },
    {
      "cell_type": "markdown",
      "metadata": {
        "id": "yr5zhUvEuBab"
      },
      "source": [
        "### Creating Word Embeddings\n",
        "\n",
        "Word embedding is a learned representation for texts where words with same meaning have similar representation.\n",
        "\n",
        "word2vec is a pre-trained model that is used for word embedding and assigns each unique word a corresponding vector."
      ]
    },
    {
      "cell_type": "code",
      "metadata": {
        "colab": {
          "base_uri": "https://localhost:8080/"
        },
        "id": "gjWA_kbftEP_",
        "outputId": "a4ce4b84-3735-4443-f88f-fc4cf89429c9"
      },
      "source": [
        "# Loading word2vec embedding model\n",
        "\n",
        "EMBEDDING_FILE = '/root/input/GoogleNews-vectors-negative300.bin.gz'\n",
        "!wget -P /root/input/ -c \"https://s3.amazonaws.com/dl4j-distribution/GoogleNews-vectors-negative300.bin.gz\"\n",
        "\n",
        "word2vec = KeyedVectors.load_word2vec_format(EMBEDDING_FILE, binary = True)"
      ],
      "execution_count": null,
      "outputs": [
        {
          "output_type": "stream",
          "text": [
            "--2020-12-05 17:31:31--  https://s3.amazonaws.com/dl4j-distribution/GoogleNews-vectors-negative300.bin.gz\n",
            "Resolving s3.amazonaws.com (s3.amazonaws.com)... 52.216.224.19\n",
            "Connecting to s3.amazonaws.com (s3.amazonaws.com)|52.216.224.19|:443... connected.\n",
            "HTTP request sent, awaiting response... 416 Requested Range Not Satisfiable\n",
            "\n",
            "    The file is already fully retrieved; nothing to do.\n",
            "\n"
          ],
          "name": "stdout"
        }
      ]
    },
    {
      "cell_type": "code",
      "metadata": {
        "id": "dOlrAJ3Wweu0"
      },
      "source": [
        "# Creating vectors for each unique words in the input.\n",
        "\n",
        "EMBEDDING_SIZE = 300  #Number of dimensions of the vector space\n",
        "VOCABULARY_SIZE = len(X_tokenizer.word_index) + 1 # Since we are padding the sequences we are adding 1.\n",
        "\n",
        "# Creating an empty embedding matrix where each row represents single datapoint and columns represents the dimension of vector space.\n",
        "embedding_weights = np.zeros((VOCABULARY_SIZE, EMBEDDING_SIZE))\n",
        "\n",
        "# Creating a word to index dictionary mapping.\n",
        "word2index = X_tokenizer.word_index\n",
        "\n",
        "# Copying word2vec vectors to the words present in the input.\n",
        "for word, index in word2index.items():\n",
        "  try:\n",
        "    embedding_weights[index, :] = word2vec[word]\n",
        "  except KeyError:\n",
        "    pass"
      ],
      "execution_count": null,
      "outputs": []
    },
    {
      "cell_type": "code",
      "metadata": {
        "colab": {
          "base_uri": "https://localhost:8080/"
        },
        "id": "P8EcmH_ozOQM",
        "outputId": "c16d02c8-b3d8-4b8b-e1d0-0edb914aec7d"
      },
      "source": [
        "# Checking the dimension of the embedding matrix.\n",
        "\n",
        "print(\"Embedding Shape : {}\".format(embedding_weights.shape))"
      ],
      "execution_count": null,
      "outputs": [
        {
          "output_type": "stream",
          "text": [
            "Embedding Shape : (59449, 300)\n"
          ],
          "name": "stdout"
        }
      ]
    },
    {
      "cell_type": "code",
      "metadata": {
        "colab": {
          "base_uri": "https://localhost:8080/"
        },
        "id": "Ez_x0NBJzjMq",
        "outputId": "cab298ed-a12a-48c0-cbb2-fa5c7c56c43d"
      },
      "source": [
        "# Looking at embedding of the word 'the'\n",
        "\n",
        "embedding_weights[X_tokenizer.word_index['the']]"
      ],
      "execution_count": null,
      "outputs": [
        {
          "output_type": "execute_result",
          "data": {
            "text/plain": [
              "array([ 0.08007812,  0.10498047,  0.04980469,  0.0534668 , -0.06738281,\n",
              "       -0.12060547,  0.03515625, -0.11865234,  0.04394531,  0.03015137,\n",
              "       -0.05688477, -0.07617188,  0.01287842,  0.04980469, -0.08496094,\n",
              "       -0.06347656,  0.00628662, -0.04321289,  0.02026367,  0.01330566,\n",
              "       -0.01953125,  0.09277344, -0.171875  , -0.00131989,  0.06542969,\n",
              "        0.05834961, -0.08251953,  0.0859375 , -0.00318909,  0.05859375,\n",
              "       -0.03491211, -0.0123291 , -0.0480957 , -0.00302124,  0.05639648,\n",
              "        0.01495361, -0.07226562, -0.05224609,  0.09667969,  0.04296875,\n",
              "       -0.03540039, -0.07324219,  0.03271484, -0.06176758,  0.00787354,\n",
              "        0.0035553 , -0.00878906,  0.0390625 ,  0.03833008,  0.04443359,\n",
              "        0.06982422,  0.01263428, -0.00445557, -0.03320312, -0.04272461,\n",
              "        0.09765625, -0.02160645, -0.0378418 ,  0.01190186, -0.01391602,\n",
              "       -0.11328125,  0.09326172, -0.03930664, -0.11621094,  0.02331543,\n",
              "       -0.01599121,  0.02636719,  0.10742188, -0.00466919,  0.09619141,\n",
              "        0.0279541 , -0.05395508,  0.08544922, -0.03686523, -0.02026367,\n",
              "       -0.08544922,  0.125     ,  0.14453125,  0.0267334 ,  0.15039062,\n",
              "        0.05273438, -0.18652344,  0.08154297, -0.01062012, -0.03735352,\n",
              "       -0.07324219, -0.07519531,  0.03613281, -0.13183594,  0.00616455,\n",
              "        0.05078125,  0.04516602,  0.0100708 , -0.15039062, -0.06005859,\n",
              "        0.05761719, -0.00692749,  0.01586914, -0.0213623 ,  0.10351562,\n",
              "       -0.00029182, -0.046875  , -0.01635742, -0.07861328, -0.06933594,\n",
              "        0.01635742, -0.03149414, -0.01373291, -0.03662109, -0.08886719,\n",
              "       -0.0480957 , -0.01318359, -0.07177734,  0.00588989, -0.04614258,\n",
              "        0.03979492,  0.10058594, -0.04931641,  0.07568359,  0.03881836,\n",
              "       -0.16699219, -0.09619141, -0.10107422,  0.02905273, -0.05786133,\n",
              "       -0.01928711, -0.04296875, -0.08398438, -0.01989746,  0.05151367,\n",
              "        0.00848389, -0.03613281, -0.14941406, -0.01855469, -0.03637695,\n",
              "       -0.07666016, -0.03955078, -0.06152344, -0.02001953,  0.04150391,\n",
              "        0.03686523, -0.07226562,  0.00592041, -0.06298828,  0.00738525,\n",
              "       -0.01586914,  0.01611328, -0.01452637,  0.00772095,  0.10107422,\n",
              "       -0.00558472,  0.01428223, -0.07617188,  0.05639648, -0.01293945,\n",
              "        0.03063965, -0.02490234, -0.09863281,  0.0324707 , -0.02807617,\n",
              "       -0.08105469,  0.02062988,  0.01611328, -0.04199219, -0.03491211,\n",
              "       -0.03759766,  0.05493164,  0.01373291,  0.02685547, -0.05859375,\n",
              "       -0.07177734, -0.12011719, -0.02282715, -0.1640625 , -0.00361633,\n",
              "       -0.05981445,  0.07080078, -0.07714844,  0.05175781, -0.04296875,\n",
              "       -0.04833984,  0.0300293 , -0.06591797, -0.03173828, -0.04882812,\n",
              "       -0.03491211,  0.05883789, -0.01464844,  0.18066406,  0.05688477,\n",
              "        0.05249023,  0.05786133,  0.11669922,  0.05200195, -0.0534668 ,\n",
              "        0.01867676, -0.015625  ,  0.00576782, -0.07324219, -0.11621094,\n",
              "        0.04052734,  0.0625    , -0.04321289,  0.01055908,  0.02172852,\n",
              "        0.04248047,  0.03271484,  0.04418945,  0.05761719,  0.02612305,\n",
              "       -0.01831055, -0.02697754, -0.00674438,  0.00509644, -0.11621094,\n",
              "        0.00364685,  0.05761719, -0.05957031, -0.08837891,  0.0135498 ,\n",
              "        0.04541016, -0.04638672, -0.0177002 , -0.0625    ,  0.03442383,\n",
              "       -0.02416992,  0.03088379,  0.09570312,  0.07958984,  0.03930664,\n",
              "        0.0279541 , -0.0859375 ,  0.08105469,  0.06640625, -0.00041962,\n",
              "       -0.06933594,  0.03588867, -0.03417969,  0.04492188, -0.00772095,\n",
              "       -0.00741577, -0.04760742,  0.01397705, -0.09960938,  0.0246582 ,\n",
              "       -0.09960938,  0.11474609,  0.03173828,  0.02209473,  0.07226562,\n",
              "        0.03686523,  0.02563477,  0.01367188, -0.02734375,  0.00592041,\n",
              "       -0.06738281,  0.05053711, -0.02832031, -0.04516602, -0.01733398,\n",
              "        0.02111816,  0.03515625, -0.04296875,  0.06640625,  0.12207031,\n",
              "        0.12353516,  0.0039978 ,  0.04516602, -0.01855469,  0.04833984,\n",
              "        0.04516602,  0.08691406,  0.02941895,  0.03759766,  0.03442383,\n",
              "       -0.07373047, -0.0402832 , -0.14648438, -0.02441406, -0.01953125,\n",
              "        0.0065918 , -0.0018158 , -0.01092529,  0.09326172,  0.06542969,\n",
              "        0.01843262, -0.09326172, -0.01574707, -0.07128906, -0.08935547,\n",
              "       -0.07128906, -0.03015137, -0.01300049,  0.01635742, -0.01831055,\n",
              "        0.01483154,  0.00500488,  0.00366211,  0.04760742, -0.06884766])"
            ]
          },
          "metadata": {
            "tags": []
          },
          "execution_count": 20
        }
      ]
    },
    {
      "cell_type": "markdown",
      "metadata": {
        "id": "-kElh7TE1ifg"
      },
      "source": [
        "### One Hot Encoding the Output"
      ]
    },
    {
      "cell_type": "code",
      "metadata": {
        "colab": {
          "base_uri": "https://localhost:8080/"
        },
        "id": "YBkIBwAU3rEk",
        "outputId": "612e8571-7aec-4341-f58a-94f42522b87e"
      },
      "source": [
        "# Using keras to_categorical to one hot encode.\n",
        "Y = to_categorical(Y)\n",
        "\n",
        "# Checking the shape of Y\n",
        "print(\"Number of Sentences : {}\".format(Y.shape[0]))\n",
        "print(\"Number of Sequences/Timesteps : {}\".format(Y.shape[1]))\n",
        "print(\"Number of Classes : {}\".format(Y.shape[2]))"
      ],
      "execution_count": null,
      "outputs": [
        {
          "output_type": "stream",
          "text": [
            "Number of Sentences : 72202\n",
            "Number of Sequences/Timesteps : 80\n",
            "Number of Classes : 13\n"
          ],
          "name": "stdout"
        }
      ]
    },
    {
      "cell_type": "markdown",
      "metadata": {
        "id": "QmroI3WD534W"
      },
      "source": [
        "## Splitting the Data\n",
        "\n",
        "Split the data into training, validation and testing datasets."
      ]
    },
    {
      "cell_type": "code",
      "metadata": {
        "id": "L4xmR7NA5Tmh"
      },
      "source": [
        "# splitting entire dataset into train and test sets.\n",
        "\n",
        "X_train, X_test, Y_train, Y_test = train_test_split(X, Y, test_size = 0.2, random_state = 43)\n",
        "\n",
        "# splitting the training data into training and validation sets.\n",
        "\n",
        "X_train, X_valid, Y_train, Y_valid = train_test_split(X_train, Y_train, test_size = 0.2, random_state = 43)"
      ],
      "execution_count": null,
      "outputs": []
    },
    {
      "cell_type": "code",
      "metadata": {
        "colab": {
          "base_uri": "https://localhost:8080/"
        },
        "id": "fvl_GcC77eoh",
        "outputId": "36e11337-6923-48d4-a618-67ada1f97a8f"
      },
      "source": [
        "print('Training Data')\n",
        "print(\"Shape of input sequences : {}\".format(X_train.shape))\n",
        "print('Shape of output sequences : {}'.format(Y_train.shape))\n",
        "print(\"-\"*50)\n",
        "\n",
        "print('Validation Data')\n",
        "print(\"Shape of input sequences : {}\".format(X_valid.shape))\n",
        "print('Shape of output sequences : {}'.format(Y_valid.shape))\n",
        "print(\"-\"*50)\n",
        "\n",
        "print('Testing Data')\n",
        "print(\"Shape of input sequences : {}\".format(X_test.shape))\n",
        "print('Shape of output sequences : {}'.format(Y_test.shape))"
      ],
      "execution_count": null,
      "outputs": [
        {
          "output_type": "stream",
          "text": [
            "Training Data\n",
            "Shape of input sequences : (46208, 80)\n",
            "Shape of output sequences : (46208, 80, 13)\n",
            "--------------------------------------------------\n",
            "Validation Data\n",
            "Shape of input sequences : (11553, 80)\n",
            "Shape of output sequences : (11553, 80, 13)\n",
            "--------------------------------------------------\n",
            "Testing Data\n",
            "Shape of input sequences : (14441, 80)\n",
            "Shape of output sequences : (14441, 80, 13)\n"
          ],
          "name": "stdout"
        }
      ]
    },
    {
      "cell_type": "markdown",
      "metadata": {
        "id": "Tu6tsxzf-fuR"
      },
      "source": [
        "# Building Models"
      ]
    },
    {
      "cell_type": "markdown",
      "metadata": {
        "id": "ssery-js-y1Q"
      },
      "source": [
        "## Simple RNN Model 1\n",
        "\n",
        "Building a plain RNN with randomly initialised embeddings and untrainable embedding weights with an architecure of 64 RNN cells."
      ]
    },
    {
      "cell_type": "code",
      "metadata": {
        "id": "GaeKZXfW9EDH"
      },
      "source": [
        "num_classes = Y.shape[2]\n",
        "\n",
        "# Architecture of Simple RNN\n",
        "\n",
        "simple_rnn = Sequential()\n",
        "\n",
        "# adding an embedding layer to randomly initialise the embedding vectors. \n",
        "simple_rnn.add(Embedding(input_dim = VOCABULARY_SIZE, output_dim = EMBEDDING_SIZE, input_length = max_length, trainable = False, ))\n",
        "\n",
        "# adding an RNN layer with 64 RNN cells.\n",
        "simple_rnn.add(SimpleRNN(64, return_sequences = True))\n",
        "\n",
        "# adding time distributed layer - to predict at every timestep for each sequence.\n",
        "simple_rnn.add(TimeDistributed(Dense(num_classes, activation = \"softmax\")))"
      ],
      "execution_count": null,
      "outputs": []
    },
    {
      "cell_type": "markdown",
      "metadata": {
        "id": "6w7hSWVhET-2"
      },
      "source": [
        "### Compiling the model"
      ]
    },
    {
      "cell_type": "code",
      "metadata": {
        "colab": {
          "base_uri": "https://localhost:8080/"
        },
        "id": "C7HQr9qgAde4",
        "outputId": "1f7e40bf-24ca-4707-baed-40b7d3a1bc1a"
      },
      "source": [
        "simple_rnn.compile(loss = 'categorical_crossentropy', optimizer = 'adam', metrics = ['acc'])\n",
        "\n",
        "# Checking the summary of the model.\n",
        "\n",
        "simple_rnn.summary()"
      ],
      "execution_count": null,
      "outputs": [
        {
          "output_type": "stream",
          "text": [
            "Model: \"sequential_2\"\n",
            "_________________________________________________________________\n",
            "Layer (type)                 Output Shape              Param #   \n",
            "=================================================================\n",
            "embedding_1 (Embedding)      (None, 80, 300)           17834700  \n",
            "_________________________________________________________________\n",
            "simple_rnn (SimpleRNN)       (None, 80, 64)            23360     \n",
            "_________________________________________________________________\n",
            "time_distributed (TimeDistri (None, 80, 13)            845       \n",
            "=================================================================\n",
            "Total params: 17,858,905\n",
            "Trainable params: 24,205\n",
            "Non-trainable params: 17,834,700\n",
            "_________________________________________________________________\n"
          ],
          "name": "stdout"
        }
      ]
    },
    {
      "cell_type": "markdown",
      "metadata": {
        "id": "wCjgOe_0Eyp9"
      },
      "source": [
        "### Fit Model"
      ]
    },
    {
      "cell_type": "code",
      "metadata": {
        "colab": {
          "base_uri": "https://localhost:8080/"
        },
        "id": "xdX6bYEzEx4X",
        "outputId": "d4dd351f-b551-4be1-9e0a-a794c1df16a8"
      },
      "source": [
        "simple_rnn_training = simple_rnn.fit(X_train, Y_train, batch_size = 128, epochs = 10, validation_data = (X_valid, Y_valid))"
      ],
      "execution_count": null,
      "outputs": [
        {
          "output_type": "stream",
          "text": [
            "Epoch 1/10\n",
            "361/361 [==============================] - 27s 75ms/step - loss: 0.5945 - acc: 0.8265 - val_loss: 0.4098 - val_acc: 0.8727\n",
            "Epoch 2/10\n",
            "361/361 [==============================] - 26s 72ms/step - loss: 0.3384 - acc: 0.8976 - val_loss: 0.2869 - val_acc: 0.9138\n",
            "Epoch 3/10\n",
            "361/361 [==============================] - 25s 68ms/step - loss: 0.2574 - acc: 0.9204 - val_loss: 0.2350 - val_acc: 0.9262\n",
            "Epoch 4/10\n",
            "361/361 [==============================] - 25s 69ms/step - loss: 0.2193 - acc: 0.9297 - val_loss: 0.2067 - val_acc: 0.9330\n",
            "Epoch 5/10\n",
            "361/361 [==============================] - 28s 77ms/step - loss: 0.1965 - acc: 0.9362 - val_loss: 0.1886 - val_acc: 0.9386\n",
            "Epoch 6/10\n",
            "361/361 [==============================] - 27s 76ms/step - loss: 0.1813 - acc: 0.9407 - val_loss: 0.1770 - val_acc: 0.9414\n",
            "Epoch 7/10\n",
            "361/361 [==============================] - 26s 72ms/step - loss: 0.1713 - acc: 0.9434 - val_loss: 0.1685 - val_acc: 0.9442\n",
            "Epoch 8/10\n",
            "361/361 [==============================] - 26s 72ms/step - loss: 0.1642 - acc: 0.9452 - val_loss: 0.1623 - val_acc: 0.9457\n",
            "Epoch 9/10\n",
            "361/361 [==============================] - 27s 75ms/step - loss: 0.1591 - acc: 0.9466 - val_loss: 0.1579 - val_acc: 0.9471\n",
            "Epoch 10/10\n",
            "361/361 [==============================] - 28s 77ms/step - loss: 0.1552 - acc: 0.9476 - val_loss: 0.1547 - val_acc: 0.9480\n"
          ],
          "name": "stdout"
        }
      ]
    },
    {
      "cell_type": "code",
      "metadata": {
        "colab": {
          "base_uri": "https://localhost:8080/",
          "height": 404
        },
        "id": "us8q6AflEryx",
        "outputId": "1d432726-dae0-4012-d82c-7fdbbf68c6e6"
      },
      "source": [
        "plt.figure(figsize = [8,6])\n",
        "plt.plot(simple_rnn_training.history['acc'])\n",
        "plt.plot(simple_rnn_training.history['val_acc'])\n",
        "plt.title(\"Training and Validation Accuracy\")\n",
        "plt.xlabel(\"# Epochs\")\n",
        "plt.ylabel(\"Accuracy\")\n",
        "plt.legend(['Training', \"Validation\"], loc = 'best')\n",
        "plt.show()"
      ],
      "execution_count": null,
      "outputs": [
        {
          "output_type": "display_data",
          "data": {
            "image/png": "[encoded data removed]",
            "text/plain": [
              "<Figure size 576x432 with 1 Axes>"
            ]
          },
          "metadata": {
            "tags": [],
            "needs_background": "light"
          }
        }
      ]
    },
    {
      "cell_type": "code",
      "metadata": {
        "id": "11JUlgHtF0jM"
      },
      "source": [
        ""
      ],
      "execution_count": null,
      "outputs": []
    }
  ]
}